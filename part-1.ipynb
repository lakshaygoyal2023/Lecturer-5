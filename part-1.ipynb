{
 "cells": [
  {
   "cell_type": "markdown",
   "metadata": {},
   "source": [
    "# Getting Started\n",
    "\n",
    "In this exercise, you'll get familiar with the following basics of python:\n",
    "\n",
    "- Creating variables (lists, dictionaries)\n",
    "- Writing functions\n",
    "- List comprehensions"
   ]
  },
  {
   "cell_type": "markdown",
   "metadata": {},
   "source": [
    "# Students Details\n",
    "\n",
    "- **Name:** Lakshay Goyal\n",
    "- **Division:** A\n",
    "- **Roll Number:** 32"
   ]
  },
  {
   "cell_type": "markdown",
   "metadata": {},
   "source": [
    "# Basic variables\n",
    "Variables in python are loosely typed, so you can quickly create numeric, character, or boolean values. Variable names should be expressive, and be written as lower-case words that are underscore separated (i.e., `variable_name`)"
   ]
  },
  {
   "cell_type": "code",
   "execution_count": 1,
   "metadata": {},
   "outputs": [
    {
     "data": {
      "text/plain": [
       "'Lakshay Goyal'"
      ]
     },
     "execution_count": 1,
     "metadata": {},
     "output_type": "execute_result"
    }
   ],
   "source": [
    "# Student Name\n",
    "student_name = \"Lakshay Goyal\"\n",
    "student_name"
   ]
  },
  {
   "cell_type": "code",
   "execution_count": 2,
   "metadata": {},
   "outputs": [
    {
     "data": {
      "text/plain": [
       "19"
      ]
     },
     "execution_count": 2,
     "metadata": {},
     "output_type": "execute_result"
    }
   ],
   "source": [
    "# My Age\n",
    "my_age = 19\n",
    "my_age"
   ]
  },
  {
   "cell_type": "code",
   "execution_count": 3,
   "metadata": {},
   "outputs": [
    {
     "data": {
      "text/plain": [
       "50"
      ]
     },
     "execution_count": 3,
     "metadata": {},
     "output_type": "execute_result"
    }
   ],
   "source": [
    "# Mother Age\n",
    "mother_age = 50\n",
    "mother_age"
   ]
  },
  {
   "cell_type": "code",
   "execution_count": 4,
   "metadata": {},
   "outputs": [
    {
     "data": {
      "text/plain": [
       "52"
      ]
     },
     "execution_count": 4,
     "metadata": {},
     "output_type": "execute_result"
    }
   ],
   "source": [
    "#Father Age\n",
    "father_age = 52\n",
    "father_age"
   ]
  },
  {
   "cell_type": "code",
   "execution_count": 5,
   "metadata": {},
   "outputs": [
    {
     "data": {
      "text/plain": [
       "40.333333333333336"
      ]
     },
     "execution_count": 5,
     "metadata": {},
     "output_type": "execute_result"
    }
   ],
   "source": [
    "#Average Age\n",
    "average_age = (father_age + mother_age + my_age) / 3\n",
    "average_age"
   ]
  },
  {
   "cell_type": "code",
   "execution_count": 6,
   "metadata": {},
   "outputs": [
    {
     "data": {
      "text/plain": [
       "'The average age of my family 40.333333333333336'"
      ]
     },
     "execution_count": 6,
     "metadata": {},
     "output_type": "execute_result"
    }
   ],
   "source": [
    "# Make a Sentence to Print Average \n",
    "sentence = \"The average age of my family \" + str(average_age)\n",
    "sentence"
   ]
  },
  {
   "cell_type": "code",
   "execution_count": 7,
   "metadata": {},
   "outputs": [
    {
     "name": "stdout",
     "output_type": "stream",
     "text": [
      "My age: 19\n",
      "Father's age: 52\n",
      "Mother's age: 50\n",
      "Average Family age: 40.333333333333336\n"
     ]
    }
   ],
   "source": [
    "# Print Your Age, Father's Age, Mother's Age, Average Family Age\n",
    "print(\"My age:\", my_age)\n",
    "print(\"Father's age:\", father_age)\n",
    "print(\"Mother's age:\", mother_age)\n",
    "print(\"Average Family age:\", average_age)"
   ]
  },
  {
   "cell_type": "code",
   "execution_count": 8,
   "metadata": {},
   "outputs": [
    {
     "data": {
      "text/plain": [
       "False"
      ]
     },
     "execution_count": 8,
     "metadata": {},
     "output_type": "execute_result"
    }
   ],
   "source": [
    "#Is my mother older than my father\n",
    "is_mother_older = mother_age > father_age\n",
    "is_mother_older"
   ]
  },
  {
   "cell_type": "code",
   "execution_count": 9,
   "metadata": {},
   "outputs": [
    {
     "data": {
      "text/plain": [
       "True"
      ]
     },
     "execution_count": 9,
     "metadata": {},
     "output_type": "execute_result"
    }
   ],
   "source": [
    "# Is my father older than my mother\n",
    "is_father_older = mother_age < father_age\n",
    "is_father_older"
   ]
  },
  {
   "cell_type": "code",
   "execution_count": 66,
   "metadata": {
    "scrolled": true
   },
   "outputs": [
    {
     "data": {
      "text/plain": [
       "8760"
      ]
     },
     "execution_count": 66,
     "metadata": {},
     "output_type": "execute_result"
    }
   ],
   "source": [
    "# Create a numeric variable `hours_in_a_year` equal to the number of hours in a year\n",
    "number_of_hours_in_a_year = (8760)\n",
    "hours_in_a_year = number_of_hours_in_a_year\n",
    "hours_in_a_year\n",
    "\n",
    "# A normal year has 365 days and one day has 24 hours\n",
    "\n",
    "year = (365, \"days\")\n",
    "days = (24, \"hours\")\n",
    "year \n",
    "\n",
    "# Create a string variable `hours_in_a_year` equal to the number of hours in a year\n",
    "number_of_hours_in_a_year = (8760)\n",
    "hours_in_a_year = number_of_hours_in_a_year\n",
    "hours_in_a_year"
   ]
  },
  {
   "cell_type": "code",
   "execution_count": 11,
   "metadata": {},
   "outputs": [],
   "source": [
    "# Create a numeric variable `seconds_in_a_day` equal to the number of seconds in a day\n",
    "\n",
    "# One day has 24 hours \n",
    "# One hour has 60 minutes \n",
    "# One minute has 60 seconds\n"
   ]
  },
  {
   "cell_type": "code",
   "execution_count": 12,
   "metadata": {},
   "outputs": [],
   "source": [
    "# Create a boolean variable `more_seconds_than_hours` that is true \n",
    "# if there are more seconds in a day than hours in a year\n"
   ]
  },
  {
   "cell_type": "code",
   "execution_count": 13,
   "metadata": {},
   "outputs": [],
   "source": [
    "# Print out all 3 of your variables"
   ]
  },
  {
   "cell_type": "code",
   "execution_count": 14,
   "metadata": {},
   "outputs": [],
   "source": [
    "# Create and print a character variable `learned` that holds the string:\n",
    "# \"I just learned that there are X hours in a year, and Y seconds in a day\"\n",
    "# Replace X and Y with the values from above"
   ]
  },
  {
   "cell_type": "markdown",
   "metadata": {},
   "source": [
    "# Lists and Dictionaries\n",
    "\n",
    "## Lists\n",
    "A **list** is a mutable, ordered sequence of values that are all stored in a single variable. You can create a list of elements by placing comma separated values inside of square brackets. Note, elements may be of different types.\n"
   ]
  },
  {
   "cell_type": "code",
   "execution_count": 15,
   "metadata": {},
   "outputs": [
    {
     "data": {
      "text/plain": [
       "['Samsung J7', 'OnePlus 6T']"
      ]
     },
     "execution_count": 15,
     "metadata": {},
     "output_type": "execute_result"
    }
   ],
   "source": [
    "# Make a variable of laptops or mobile phones you have owned\n",
    "phones = [\"Samsung J7\", \"OnePlus 6T\"]\n",
    "phones"
   ]
  },
  {
   "cell_type": "code",
   "execution_count": 16,
   "metadata": {},
   "outputs": [
    {
     "data": {
      "text/plain": [
       "2"
      ]
     },
     "execution_count": 16,
     "metadata": {},
     "output_type": "execute_result"
    }
   ],
   "source": [
    "# Lenght of List\n",
    "total_values_in_list = len(phones)\n",
    "total_values_in_list"
   ]
  },
  {
   "cell_type": "code",
   "execution_count": 17,
   "metadata": {},
   "outputs": [
    {
     "data": {
      "text/plain": [
       "'OnePlus 6T'"
      ]
     },
     "execution_count": 17,
     "metadata": {},
     "output_type": "execute_result"
    }
   ],
   "source": [
    "# Last Value\n",
    "phones [-1]"
   ]
  },
  {
   "cell_type": "code",
   "execution_count": 44,
   "metadata": {},
   "outputs": [
    {
     "data": {
      "text/plain": [
       "3"
      ]
     },
     "execution_count": 44,
     "metadata": {},
     "output_type": "execute_result"
    }
   ],
   "source": [
    "# Add a value to a list\n",
    "phones.append(\"iPhone\")\n",
    "phones\n",
    "total_values_in_list = len(phones)\n",
    "total_values_in_list"
   ]
  },
  {
   "cell_type": "code",
   "execution_count": null,
   "metadata": {},
   "outputs": [],
   "source": []
  },
  {
   "cell_type": "code",
   "execution_count": 48,
   "metadata": {},
   "outputs": [
    {
     "data": {
      "text/plain": [
       "[]"
      ]
     },
     "execution_count": 48,
     "metadata": {},
     "output_type": "execute_result"
    }
   ],
   "source": [
    "# Clear a list\n",
    "phones.clear()\n",
    "phones"
   ]
  },
  {
   "cell_type": "code",
   "execution_count": 41,
   "metadata": {},
   "outputs": [
    {
     "data": {
      "text/plain": [
       "['Lakshay', 'Sahil', 'Devesh']"
      ]
     },
     "execution_count": 41,
     "metadata": {},
     "output_type": "execute_result"
    }
   ],
   "source": [
    "# Create a list `friends` that has a list of 3 of your friends' names in it\n",
    "friends = [\"Lakshay\", \"Sahil\", \"Devesh\"]\n",
    "friends"
   ]
  },
  {
   "cell_type": "code",
   "execution_count": 42,
   "metadata": {},
   "outputs": [
    {
     "data": {
      "text/plain": [
       "['Dinesh', 'Manju', 'Maneet']"
      ]
     },
     "execution_count": 42,
     "metadata": {},
     "output_type": "execute_result"
    }
   ],
   "source": [
    "# Create a list `family` that has a list of 3 of your family members' names in it\n",
    "family = [\"Dinesh\", \"Manju\", \"Maneet\"]\n",
    "family"
   ]
  },
  {
   "cell_type": "code",
   "execution_count": 43,
   "metadata": {},
   "outputs": [
    {
     "data": {
      "text/plain": [
       "['Dinesh', 'Manju', 'Maneet', 'Keshav']"
      ]
     },
     "execution_count": 43,
     "metadata": {},
     "output_type": "execute_result"
    }
   ],
   "source": [
    "# Use the `append` list method to add another family member to your `family` list\n",
    "family.append(\"Keshav\")\n",
    "family"
   ]
  },
  {
   "cell_type": "code",
   "execution_count": 50,
   "metadata": {},
   "outputs": [
    {
     "data": {
      "text/plain": [
       "[['Dinesh', 'Manju', 'Maneet', 'Keshav'], ['Lakshay', 'Sahil', 'Devesh']]"
      ]
     },
     "execution_count": 50,
     "metadata": {},
     "output_type": "execute_result"
    }
   ],
   "source": [
    "# Create and print a list `people` that contains your lists `friends` and `family`\n",
    "people = [family, friends]\n",
    "people"
   ]
  },
  {
   "cell_type": "markdown",
   "metadata": {},
   "source": [
    "## Dictionaries\n",
    "A **dictionary** is an object stores a _key-value pair_ in python. You can create a dictionary by passing _colon separated_ pairs inside of curly braces (i.e., `dict = {'key':value}`)"
   ]
  },
  {
   "cell_type": "code",
   "execution_count": null,
   "metadata": {},
   "outputs": [],
   "source": []
  },
  {
   "cell_type": "code",
   "execution_count": null,
   "metadata": {},
   "outputs": [],
   "source": []
  },
  {
   "cell_type": "code",
   "execution_count": null,
   "metadata": {},
   "outputs": [],
   "source": []
  },
  {
   "cell_type": "code",
   "execution_count": null,
   "metadata": {},
   "outputs": [],
   "source": []
  },
  {
   "cell_type": "code",
   "execution_count": null,
   "metadata": {},
   "outputs": [],
   "source": []
  },
  {
   "cell_type": "code",
   "execution_count": null,
   "metadata": {},
   "outputs": [],
   "source": []
  },
  {
   "cell_type": "code",
   "execution_count": null,
   "metadata": {},
   "outputs": [],
   "source": []
  },
  {
   "cell_type": "markdown",
   "metadata": {},
   "source": [
    "# Functions\n",
    "Functions are a series of executable steps stored in a variable. They can be created with the `def` keyword."
   ]
  },
  {
   "cell_type": "code",
   "execution_count": 24,
   "metadata": {},
   "outputs": [],
   "source": [
    "# Made a function called sum of 2 numbers\n",
    "def sum_of_2_numbers(number1, number2): \n",
    "    total = number1+number2\n",
    "    return total"
   ]
  },
  {
   "cell_type": "code",
   "execution_count": 25,
   "metadata": {},
   "outputs": [
    {
     "data": {
      "text/plain": [
       "36"
      ]
     },
     "execution_count": 25,
     "metadata": {},
     "output_type": "execute_result"
    }
   ],
   "source": [
    "#\n",
    "sum_of_2_numbers (19, 17)"
   ]
  },
  {
   "cell_type": "markdown",
   "metadata": {},
   "source": [
    "# Create a function called average_of_2_ages that accepts 2 ages and returns the average age\n",
    "\n",
    "- Bonus: Eliminate the creation of a third variable\n",
    "- Bonus: Return a string that follows the following format \"The Average age is ##\". And then run this function. "
   ]
  },
  {
   "cell_type": "code",
   "execution_count": 26,
   "metadata": {},
   "outputs": [],
   "source": [
    "def average_of_2_ages(age1, age2):\n",
    "    return \"The Average Age is \" + str((age1+age2)/2)"
   ]
  },
  {
   "cell_type": "code",
   "execution_count": 27,
   "metadata": {},
   "outputs": [
    {
     "data": {
      "text/plain": [
       "'The Average Age is 18.0'"
      ]
     },
     "execution_count": 27,
     "metadata": {},
     "output_type": "execute_result"
    }
   ],
   "source": [
    "abhishek_sundeep = average_of_2_ages(18,18)\n",
    "abhishek_sundeep"
   ]
  },
  {
   "cell_type": "code",
   "execution_count": 28,
   "metadata": {},
   "outputs": [],
   "source": [
    "# Write a function `make_awesome` that adds the string \" is awesome!\" to the end of any parameter it is passed\n",
    "# Include a proper doc string that describes what the function returns\n",
    "\n",
    "\n",
    "# returns the words \" is awesome\" after the string (text_input) passed through parameters\n",
    "def make_awesome(text_input): \n",
    "    return text_input + \" is awesome!\"\n",
    "\n",
    "\n"
   ]
  },
  {
   "cell_type": "code",
   "execution_count": 29,
   "metadata": {},
   "outputs": [
    {
     "data": {
      "text/plain": [
       "'data science is awesome!'"
      ]
     },
     "execution_count": 29,
     "metadata": {},
     "output_type": "execute_result"
    }
   ],
   "source": [
    "# Pass \"Data Science\" to your function\n",
    "make_awesome(\"data science\")\n"
   ]
  },
  {
   "cell_type": "code",
   "execution_count": 30,
   "metadata": {},
   "outputs": [],
   "source": [
    "# Write a function `is_it_awesome` that returns a boolean (true/false) if a string has the word \"awesome\" in it\n",
    "# Include a proper doc string that describes what the function returns\n",
    "\n",
    "# returns a boolean if the string passed through parameters contains \"awesome\"\n",
    "def is_it_awesome(text_input): \n",
    "    return \"awesome\" in text_input\n",
    "\n",
    "\n",
    "    "
   ]
  },
  {
   "cell_type": "code",
   "execution_count": 31,
   "metadata": {},
   "outputs": [
    {
     "data": {
      "text/plain": [
       "True"
      ]
     },
     "execution_count": 31,
     "metadata": {},
     "output_type": "execute_result"
    }
   ],
   "source": [
    "# Pass a phrase of your choice to the `is_it_awesome` function\n",
    "\n",
    "is_it_awesome(\"mike is awesome\")\n"
   ]
  },
  {
   "cell_type": "code",
   "execution_count": 32,
   "metadata": {},
   "outputs": [],
   "source": [
    "# Write a more general function `phrase_has_string` that takes in a `phrase` and a `string` and returns\n",
    "# A boolean indicating if the phrase contains the string. It should not be case sensitive.\n",
    "# Include a proper doc string that describes what the function returns\n",
    "\n",
    "# returns a boolean if the text contains the phrase passed through the parameters\n",
    "def phrase_has_string(phrase, text_input): \n",
    "    return phrase in text_input"
   ]
  },
  {
   "cell_type": "code",
   "execution_count": 33,
   "metadata": {},
   "outputs": [
    {
     "data": {
      "text/plain": [
       "True"
      ]
     },
     "execution_count": 33,
     "metadata": {},
     "output_type": "execute_result"
    }
   ],
   "source": [
    "# Test out your function\n",
    "phrase_has_string(\"car\", \"I want a car ...amongst other things\")"
   ]
  },
  {
   "cell_type": "code",
   "execution_count": 34,
   "metadata": {},
   "outputs": [],
   "source": [
    "# Define a function `count_relationships` that takes in a dictionary of relationships (such as `people_dict`)\n",
    "# And returns a dictionary of the number of relationships of each type (i.e. {\"friends\":4, \"family\":3})\n",
    "# Hint: use a loop\n",
    "# Include a proper doc string that describes what the function returns\n",
    "\n",
    "\n",
    "# returns the number of values in a list for each key in the dictionary passed through the parameters\n",
    "def count_relationships(relationships):\n",
    "    for k in relationships:\n",
    "        relationships[k] = len(relationships[k])\n",
    "    return (relationships)"
   ]
  },
  {
   "cell_type": "code",
   "execution_count": null,
   "metadata": {},
   "outputs": [],
   "source": []
  },
  {
   "cell_type": "code",
   "execution_count": 35,
   "metadata": {},
   "outputs": [
    {
     "ename": "NameError",
     "evalue": "name 'people_dict' is not defined",
     "output_type": "error",
     "traceback": [
      "\u001b[1;31m---------------------------------------------------------------------------\u001b[0m",
      "\u001b[1;31mNameError\u001b[0m                                 Traceback (most recent call last)",
      "\u001b[1;32m<ipython-input-35-d070a65a2811>\u001b[0m in \u001b[0;36m<module>\u001b[1;34m\u001b[0m\n\u001b[0;32m      1\u001b[0m \u001b[1;31m# Pass `people_dict` to `count_relationships`\u001b[0m\u001b[1;33m\u001b[0m\u001b[1;33m\u001b[0m\u001b[1;33m\u001b[0m\u001b[0m\n\u001b[1;32m----> 2\u001b[1;33m \u001b[0mcount_relationships\u001b[0m\u001b[1;33m(\u001b[0m\u001b[0mpeople_dict\u001b[0m\u001b[1;33m)\u001b[0m\u001b[1;33m\u001b[0m\u001b[1;33m\u001b[0m\u001b[0m\n\u001b[0m",
      "\u001b[1;31mNameError\u001b[0m: name 'people_dict' is not defined"
     ]
    }
   ],
   "source": [
    "# Pass `people_dict` to `count_relationships`\n",
    "count_relationships(people_dict)"
   ]
  },
  {
   "cell_type": "code",
   "execution_count": null,
   "metadata": {},
   "outputs": [],
   "source": [
    "# Define a function `total_relationships` take in a dictionary of relationships (such as `people_dict`)\n",
    "# And returns the total number of relationships\n",
    "# Hint: use a *list comprehension* and your `count_relationships` function (separately)\n",
    "# Include a proper doc string that describes what the function returns\n",
    "\n",
    "# returns the total number of relationships in the dictionary passed to it through the pararmeters\n",
    "def total_relationships(relationships):\n",
    "    d_new = count_relationships(relationships)\n",
    "    total = 0\n",
    "    for k in d_new:\n",
    "        total = total + d_new[k]\n",
    "    return total"
   ]
  },
  {
   "cell_type": "code",
   "execution_count": null,
   "metadata": {},
   "outputs": [],
   "source": [
    "test = {'family': ['Kashmira', 'Marbin', 'Zahid', 'Zoshua'],\n",
    " 'friends': ['Utsav', 'Varun', 'Zubair'],\n",
    " 'coworkers': ['zubair', 'ansul', 'yiran']}"
   ]
  },
  {
   "cell_type": "code",
   "execution_count": null,
   "metadata": {},
   "outputs": [],
   "source": [
    "# Use the `total_relationships` function to count the number of people in `people_dict`\n",
    "\n",
    "# total_rel = total_relationships(people_dict)\n",
    "# for some reason my people_dict variable gets messed up after it runs in the count_relationships\n",
    "\n",
    "# I have used test due to the error I get when I try to use the people_dict variable\n",
    "total_rel = total_relationships(test)\n",
    "total_rel"
   ]
  },
  {
   "cell_type": "code",
   "execution_count": null,
   "metadata": {},
   "outputs": [],
   "source": []
  },
  {
   "cell_type": "code",
   "execution_count": null,
   "metadata": {},
   "outputs": [],
   "source": []
  },
  {
   "cell_type": "code",
   "execution_count": null,
   "metadata": {},
   "outputs": [],
   "source": []
  },
  {
   "cell_type": "code",
   "execution_count": null,
   "metadata": {},
   "outputs": [],
   "source": []
  },
  {
   "cell_type": "code",
   "execution_count": null,
   "metadata": {},
   "outputs": [],
   "source": []
  },
  {
   "cell_type": "code",
   "execution_count": null,
   "metadata": {},
   "outputs": [],
   "source": []
  },
  {
   "cell_type": "code",
   "execution_count": null,
   "metadata": {},
   "outputs": [],
   "source": []
  },
  {
   "cell_type": "code",
   "execution_count": null,
   "metadata": {},
   "outputs": [],
   "source": []
  },
  {
   "cell_type": "code",
   "execution_count": null,
   "metadata": {},
   "outputs": [],
   "source": []
  },
  {
   "cell_type": "code",
   "execution_count": null,
   "metadata": {},
   "outputs": [],
   "source": []
  },
  {
   "cell_type": "code",
   "execution_count": null,
   "metadata": {},
   "outputs": [],
   "source": []
  },
  {
   "cell_type": "code",
   "execution_count": null,
   "metadata": {},
   "outputs": [],
   "source": []
  },
  {
   "cell_type": "code",
   "execution_count": null,
   "metadata": {},
   "outputs": [],
   "source": []
  },
  {
   "cell_type": "code",
   "execution_count": null,
   "metadata": {},
   "outputs": [],
   "source": []
  },
  {
   "cell_type": "code",
   "execution_count": null,
   "metadata": {},
   "outputs": [],
   "source": []
  },
  {
   "cell_type": "code",
   "execution_count": null,
   "metadata": {},
   "outputs": [],
   "source": []
  },
  {
   "cell_type": "code",
   "execution_count": null,
   "metadata": {},
   "outputs": [],
   "source": []
  },
  {
   "cell_type": "code",
   "execution_count": null,
   "metadata": {},
   "outputs": [],
   "source": []
  },
  {
   "cell_type": "code",
   "execution_count": null,
   "metadata": {},
   "outputs": [],
   "source": []
  },
  {
   "cell_type": "code",
   "execution_count": null,
   "metadata": {},
   "outputs": [],
   "source": []
  },
  {
   "cell_type": "code",
   "execution_count": null,
   "metadata": {},
   "outputs": [],
   "source": []
  },
  {
   "cell_type": "code",
   "execution_count": null,
   "metadata": {},
   "outputs": [],
   "source": []
  },
  {
   "cell_type": "code",
   "execution_count": null,
   "metadata": {},
   "outputs": [],
   "source": []
  },
  {
   "cell_type": "code",
   "execution_count": null,
   "metadata": {},
   "outputs": [],
   "source": []
  },
  {
   "cell_type": "code",
   "execution_count": null,
   "metadata": {},
   "outputs": [],
   "source": []
  },
  {
   "cell_type": "code",
   "execution_count": null,
   "metadata": {},
   "outputs": [],
   "source": []
  },
  {
   "cell_type": "code",
   "execution_count": null,
   "metadata": {},
   "outputs": [],
   "source": []
  },
  {
   "cell_type": "code",
   "execution_count": null,
   "metadata": {},
   "outputs": [],
   "source": []
  },
  {
   "cell_type": "code",
   "execution_count": null,
   "metadata": {},
   "outputs": [],
   "source": []
  },
  {
   "cell_type": "code",
   "execution_count": null,
   "metadata": {},
   "outputs": [],
   "source": []
  },
  {
   "cell_type": "code",
   "execution_count": null,
   "metadata": {},
   "outputs": [],
   "source": []
  },
  {
   "cell_type": "code",
   "execution_count": null,
   "metadata": {},
   "outputs": [],
   "source": []
  },
  {
   "cell_type": "code",
   "execution_count": null,
   "metadata": {},
   "outputs": [],
   "source": []
  },
  {
   "cell_type": "code",
   "execution_count": null,
   "metadata": {},
   "outputs": [],
   "source": []
  },
  {
   "cell_type": "code",
   "execution_count": null,
   "metadata": {},
   "outputs": [],
   "source": []
  },
  {
   "cell_type": "code",
   "execution_count": null,
   "metadata": {},
   "outputs": [],
   "source": []
  },
  {
   "cell_type": "code",
   "execution_count": null,
   "metadata": {},
   "outputs": [],
   "source": []
  },
  {
   "cell_type": "code",
   "execution_count": null,
   "metadata": {},
   "outputs": [],
   "source": []
  },
  {
   "cell_type": "code",
   "execution_count": null,
   "metadata": {},
   "outputs": [],
   "source": []
  },
  {
   "cell_type": "code",
   "execution_count": null,
   "metadata": {},
   "outputs": [],
   "source": []
  },
  {
   "cell_type": "code",
   "execution_count": null,
   "metadata": {},
   "outputs": [],
   "source": []
  }
 ],
 "metadata": {
  "kernelspec": {
   "display_name": "Python 3",
   "language": "python",
   "name": "python3"
  },
  "language_info": {
   "codemirror_mode": {
    "name": "ipython",
    "version": 3
   },
   "file_extension": ".py",
   "mimetype": "text/x-python",
   "name": "python",
   "nbconvert_exporter": "python",
   "pygments_lexer": "ipython3",
   "version": "3.8.8"
  }
 },
 "nbformat": 4,
 "nbformat_minor": 2
}
